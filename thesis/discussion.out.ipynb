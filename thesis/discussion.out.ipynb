{
 "cells": [
  {
   "cell_type": "markdown",
   "metadata": {},
   "source": [
    "# \n",
    "\n",
    "## Discussion\n",
    "\n",
    "Here is the discussion"
   ],
   "id": "e7a2d8a0-b408-467c-b39b-806fb39ab6ca"
  }
 ],
 "nbformat": 4,
 "nbformat_minor": 5,
 "metadata": {}
}
