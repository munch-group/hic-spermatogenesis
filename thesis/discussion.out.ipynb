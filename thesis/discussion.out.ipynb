{
 "cells": [
  {
   "cell_type": "markdown",
   "metadata": {},
   "source": [
    "# \n",
    "\n",
    "## Discussion\n",
    "\n",
    "Here is the discussion"
   ],
   "id": "57855e55-cf2b-49d7-a0e3-1ae8db83addf"
  }
 ],
 "nbformat": 4,
 "nbformat_minor": 5,
 "metadata": {}
}
