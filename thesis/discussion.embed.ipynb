{
 "cells": [
  {
   "cell_type": "markdown",
   "metadata": {},
   "source": [
    "# \n",
    "\n",
    "## Discussion\n",
    "\n",
    "Here is the discussion"
   ],
   "id": "139d2dfd-7baa-45e0-9aab-ae4ff085d692"
  }
 ],
 "nbformat": 4,
 "nbformat_minor": 5,
 "metadata": {}
}
