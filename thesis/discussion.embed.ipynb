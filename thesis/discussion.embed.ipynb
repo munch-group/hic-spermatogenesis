{
 "cells": [
  {
   "cell_type": "markdown",
   "metadata": {},
   "source": [
    "# \n",
    "\n",
    "## Discussion\n",
    "\n",
    "Here is the discussion"
   ],
   "id": "4405115a-4ead-4e9a-9422-01fd7a78a1a6"
  }
 ],
 "nbformat": 4,
 "nbformat_minor": 5,
 "metadata": {}
}
