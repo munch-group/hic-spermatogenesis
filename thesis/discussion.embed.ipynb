{
 "cells": [
  {
   "cell_type": "markdown",
   "metadata": {},
   "source": [
    "# \n",
    "\n",
    "## Discussion\n",
    "\n",
    "Here is the discussion"
   ],
   "id": "40446433-5804-4a5f-a030-7e267dd10e4c"
  }
 ],
 "nbformat": 4,
 "nbformat_minor": 5,
 "metadata": {}
}
