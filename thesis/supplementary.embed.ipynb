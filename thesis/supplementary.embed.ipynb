{
 "cells": [
  {
   "cell_type": "markdown",
   "metadata": {},
   "source": [
    "# \n",
    "\n",
    "## Supplementary material\n",
    "\n",
    "Here is appended the supplementary material"
   ],
   "id": "01947f0f-ed36-41d2-9d26-daebd7b9be80"
  }
 ],
 "nbformat": 4,
 "nbformat_minor": 5,
 "metadata": {}
}
