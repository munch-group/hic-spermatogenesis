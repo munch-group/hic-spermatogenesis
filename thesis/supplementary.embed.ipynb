{
 "cells": [
  {
   "cell_type": "markdown",
   "metadata": {},
   "source": [
    "# \n",
    "\n",
    "## Supplementary material\n",
    "\n",
    "Here is appended the supplementary material"
   ],
   "id": "f21a4979-eb7e-4942-9754-6613f5d13ac8"
  }
 ],
 "nbformat": 4,
 "nbformat_minor": 5,
 "metadata": {}
}
