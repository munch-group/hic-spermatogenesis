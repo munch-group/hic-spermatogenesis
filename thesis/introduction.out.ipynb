{
 "cells": [
  {
   "cell_type": "markdown",
   "metadata": {},
   "source": [
    "# \n",
    "\n",
    "## Introduction\n",
    "\n",
    "### Sexual reproduction (spermatogenesis, meiosis)\n",
    "\n",
    "The production of gametes in a sexually reproducing organism is a highly complex process that involves numeruous elements. Spermatogenesis, the process of forming male gametes, involves four stages of differentiation from a germ cell through *spermatogonia*, *pachytene spermatocyte*, and *round spermatids* to *spermatozoa*, or *sperm* ([Wang et al. 2019](#ref-wang_reprogramming_2019)), and it is the very basis of male reproduction. The specialized cell division of meiosis neatly handles the pairing, recombination, and segregation of homologous chromosomes, thereby ensuring proper genetic distribution. Deeply understanding the steps of molecular steps of reproduction and how our genetic material is inherited is essential in biology, bringing insight to areas such as speciation, population diversity, and (male) infertility.\n",
    "\n",
    "### Selfish genes (and randomness)\n",
    "\n",
    "The conventional story of meiosis in gametogenesis is one of random segregation of the sex chromosomes. They split into haploid gametes, where each chromosome has an equal chance of being passed on to a gamete. That seems like a fair game, but what if some genes are cheating the system by making others less viable. A meiotic driver is a selfish gene element that modulates meiosis and preferentially transmits its own allele through meiosis, regardless of the downstream fitness effects it may have (good or bad) on the organism it is part of. This phenomenon challenges the traditional understanding of selection, extending its scope beyond the fitness effects on an organism to include selective pressures at the molecular level. For example, if some genes on the X chromosome create a disadvantage for gametes that *do not* contain those genes, making sure the Y chromosome is not as viable as the X, resulting in a sex imbalance and possibly numerous other downstream effects. That is exactly what is coined *sex chromosome meiotic drive* ([Jaenike 2001](#ref-jaenike_sex_2001)), a result of selfish genetic elements.\n",
    "\n",
    "Motivated by previous results in the Munch Research group ([Munch 2024](#ref-munch_group_2024)) on hybrid incompatibility and extended common haplotypes ([Skov et al. 2023](#ref-skov_extraordinary_2023); [Sørensen et al. 2023](#ref-sorensen_genome_wide_2023)) that could be explained by meiotic drive, we wanted to investigate how these patterns correlate with chromatin compartments.\n",
    "\n",
    "### High-Throughput Chromosome Conformation Capture (Hi-C)\n",
    "\n",
    "Our DNA can be divided into different orders of structure. *3C* focus on identifying the highest orders of organization inside the nucleus, that is, when the 30 nm thick coil of chromatin fibers folds into loops, Topologically Associating Domains (TADs), and chromatin compartments. Here, we narrow our focus on the largest of the structures, *compartments*, that is known to determine availability to transcription factors, thus making an *A* compartment *active*—and the *B* compartment *inactive*. The introduction of the Hi-C (high-throughput 3C) method ([Lieberman-Aiden et al. 2009](#ref-lieberman_aiden_comprehensive_2009)) opened new possibilities for exploring the three-dimensional organization of the genome.\n",
    "\n",
    "Jaenike, John. 2001. “Sex Chromosome Meiotic Drive.” *Annual Review of Ecology and Systematics* 32 (1): 25–49. <https://doi.org/10.1146/annurev.ecolsys.32.081501.113958>.\n",
    "\n",
    "Lieberman-Aiden, Erez, Nynke L. Van Berkum, Louise Williams, Maxim Imakaev, Tobias Ragoczy, Agnes Telling, Ido Amit, et al. 2009. “Comprehensive Mapping of Long-Range Interactions Reveals Folding Principles of the Human Genome.” *Science* 326 (5950): 289–93. <https://doi.org/10.1126/science.1181369>.\n",
    "\n",
    "Munch, Kasper. 2024. “Munch-Group.” <https://munch-group.org/research.html>.\n",
    "\n",
    "Skov, Laurits, Moisès Coll Macià, Elise Anne Lucotte, Maria Izabel Alves Cavassim, David Castellano, Mikkel Heide Schierup, and Kasper Munch. 2023. “Extraordinary Selection on the Human X Chromosome Associated with Archaic Admixture.” *Cell Genomics* 3 (3): 100274. <https://doi.org/10.1016/j.xgen.2023.100274>.\n",
    "\n",
    "Sørensen, Erik F., R. Alan Harris, Liye Zhang, Muthuswamy Raveendran, Lukas F. K. Kuderna, Jerilyn A. Walker, Jessica M. Storer, et al. 2023. “Genome-Wide Coancestry Reveals Details of Ancient and Recent Male-Driven Reticulation in Baboons.” *Science* 380 (6648): eabn8153. <https://doi.org/10.1126/science.abn8153>.\n",
    "\n",
    "Wang, Yao, Hanben Wang, Yu Zhang, Zhenhai Du, Wei Si, Suixing Fan, Dongdong Qin, et al. 2019. “Reprogramming of Meiotic Chromatin Architecture During Spermatogenesis.” *Molecular Cell* 73 (3): 547–561.e6. <https://doi.org/10.1016/j.molcel.2018.11.019>."
   ],
   "id": "e0b3219b-f076-45a9-b9b9-c29f69860ccf"
  }
 ],
 "nbformat": 4,
 "nbformat_minor": 5,
 "metadata": {}
}
