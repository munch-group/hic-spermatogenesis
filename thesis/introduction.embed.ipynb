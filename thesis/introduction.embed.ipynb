{
 "cells": [
  {
   "cell_type": "markdown",
   "metadata": {},
   "source": [
    "# \n",
    "\n",
    "## Introduction\n",
    "\n",
    "### Sexual reproduction (spermatogenesis, meiosis)\n",
    "\n",
    "The production of gametes in a sexually reproducing organism is a highly complex process that involves numeruous elements. Spermatogenesis, the process of forming male gametes, involves four stages of differentiation from a germ cell through *spermatogonia*, *pachytene spermatocyte*, and *round spermatids* to *spermatozoa*, or *sperm* \\[@wang_reprogramming_2019\\], and it is the very basis of male reproduction. The specialized cell division of meiosis neatly handles the pairing, recombination, and segregation of homologous chromosomes, thereby ensuring proper genetic distribution. Deeply understanding the steps of molecular steps of reproduction and how our genetic material is inherited is essential in biology, bringing insight to areas such as speciation, population diversity, and (male) infertility.\n",
    "\n",
    "### Selfish genes (and randomness)\n",
    "\n",
    "The conventional story of meiosis in gametogenesis is one of random segregation of the sex chromosomes. They split into haploid gametes, where each chromosome has an equal chance of being passed on to a gamete. That seems like a fair game, but what if some genes are cheating the system by making others less viable. A meiotic driver is a selfish gene element that modulates meiosis and preferentially transmits its own allele through meiosis, regardless of the downstream fitness effects it may have (good or bad) on the organism it is part of. This phenomenon challenges the traditional understanding of selection, extending its scope beyond the fitness effects on an organism to include selective pressures at the molecular level. For example, if some genes on the X chromosome create a disadvantage for gametes that *do not* contain those genes, making sure the Y chromosome is not as viable as the X, resulting in a sex imbalance and possibly numerous other downstream effects. That is exactly what is coined *sex chromosome meiotic drive* \\[@jaenike_sex_2001\\], a result of selfish genetic elements.\n",
    "\n",
    "Motivated by previous results in the Munch Research group \\[@munch_group_2024\\] on hybrid incompatibility and extended common haplotypes \\[@skov_extraordinary_2023; @sorensen_genome_wide_2023\\] that could be explained by meiotic drive, we wanted to investigate how these patterns correlate with chromatin compartments.\n",
    "\n",
    "### High-Throughput Chromosome Conformation Capture (Hi-C)\n",
    "\n",
    "Our DNA can be divided into different orders of structure. *3C* focus on identifying the highest orders of organization inside the nucleus, that is, when the 30 nm thick coil of chromatin fibers folds into loops, Topologically Associating Domains (TADs), and chromatin compartments. Here, we narrow our focus on the largest of the structures, *compartments*, that is known to determine availability to transcription factors, thus making an *A* compartment *active*—and the *B* compartment *inactive*. The introduction of the Hi-C (high-throughput 3C) method \\[@lieberman_aiden_comprehensive_2009\\] opened new possibilities for exploring the three-dimensional organization of the genome."
   ],
   "id": "fbaa5d0a-f39b-4a87-b933-12138696aa85"
  }
 ],
 "nbformat": 4,
 "nbformat_minor": 5,
 "metadata": {}
}
