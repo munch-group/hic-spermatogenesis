{
 "cells": [
  {
   "cell_type": "markdown",
   "metadata": {},
   "source": [
    "# \n",
    "\n",
    "## Results\n",
    "\n",
    "Here are the glorious results"
   ],
   "id": "3679091e-d4d7-49dd-a411-f85b9969639a"
  }
 ],
 "nbformat": 4,
 "nbformat_minor": 5,
 "metadata": {}
}
