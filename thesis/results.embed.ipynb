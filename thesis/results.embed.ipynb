{
 "cells": [
  {
   "cell_type": "markdown",
   "metadata": {},
   "source": [
    "# \n",
    "\n",
    "## Results\n",
    "\n",
    "Here are the glorious results"
   ],
   "id": "cbdf659d-d04f-4fb3-98f1-8694ac22e175"
  }
 ],
 "nbformat": 4,
 "nbformat_minor": 5,
 "metadata": {}
}
