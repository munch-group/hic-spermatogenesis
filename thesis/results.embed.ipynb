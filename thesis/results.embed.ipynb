{
 "cells": [
  {
   "cell_type": "markdown",
   "metadata": {},
   "source": [
    "# \n",
    "\n",
    "## Results\n",
    "\n",
    "Here are the glorious results"
   ],
   "id": "224181f2-447f-4c1b-9716-0e034071223c"
  }
 ],
 "nbformat": 4,
 "nbformat_minor": 5,
 "metadata": {}
}
