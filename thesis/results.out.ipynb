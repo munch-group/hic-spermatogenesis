{
 "cells": [
  {
   "cell_type": "markdown",
   "metadata": {},
   "source": [
    "# \n",
    "\n",
    "## Results\n",
    "\n",
    "Here are the glorious results"
   ],
   "id": "a57af9ae-95a7-47fb-a85b-7d4872e7ccb2"
  }
 ],
 "nbformat": 4,
 "nbformat_minor": 5,
 "metadata": {}
}
