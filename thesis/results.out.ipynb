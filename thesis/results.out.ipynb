{
 "cells": [
  {
   "cell_type": "markdown",
   "metadata": {},
   "source": [
    "# \n",
    "\n",
    "## Results\n",
    "\n",
    "Here are the glorious results"
   ],
   "id": "975a4ff0-7634-4b06-8f0d-d02712a24fc0"
  }
 ],
 "nbformat": 4,
 "nbformat_minor": 5,
 "metadata": {}
}
