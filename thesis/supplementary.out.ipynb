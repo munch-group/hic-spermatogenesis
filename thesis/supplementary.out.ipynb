{
 "cells": [
  {
   "cell_type": "markdown",
   "metadata": {},
   "source": [
    "# \n",
    "\n",
    "## Supplementary material\n",
    "\n",
    "Here is appended the supplementary material"
   ],
   "id": "7856b009-b8bb-46eb-880a-308f149e0aa0"
  }
 ],
 "nbformat": 4,
 "nbformat_minor": 5,
 "metadata": {}
}
