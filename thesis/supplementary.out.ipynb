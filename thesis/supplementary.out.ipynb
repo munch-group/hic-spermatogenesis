{
 "cells": [
  {
   "cell_type": "markdown",
   "metadata": {},
   "source": [
    "# \n",
    "\n",
    "## Supplementary material\n",
    "\n",
    "Here is appended the supplementary material"
   ],
   "id": "0783f94e-28a0-450a-97d5-662cb1fe67b0"
  }
 ],
 "nbformat": 4,
 "nbformat_minor": 5,
 "metadata": {}
}
