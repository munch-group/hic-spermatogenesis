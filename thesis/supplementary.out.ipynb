{
 "cells": [
  {
   "cell_type": "markdown",
   "metadata": {},
   "source": [
    "# \n",
    "\n",
    "## Supplementary material\n",
    "\n",
    "Here is appended the supplementary material"
   ],
   "id": "5c65f265-27be-4f64-b909-d800b9fffba8"
  }
 ],
 "nbformat": 4,
 "nbformat_minor": 5,
 "metadata": {}
}
