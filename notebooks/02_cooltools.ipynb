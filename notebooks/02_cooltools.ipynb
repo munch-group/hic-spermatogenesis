{
 "cells": [
  {
   "cell_type": "markdown",
   "id": "50ff1f35-0034-4dc7-ba9c-857230694918",
   "metadata": {},
   "source": [
    "# HiC data analysis with `cooler` and `cooltools`"
   ]
  },
  {
   "cell_type": "code",
   "execution_count": null,
   "id": "445b04fa-9790-4f3a-88f9-9cbc18155c1b",
   "metadata": {},
   "outputs": [],
   "source": []
  }
 ],
 "metadata": {
  "kernelspec": {
   "display_name": "Python (hic)",
   "language": "python",
   "name": "hic"
  },
  "language_info": {
   "codemirror_mode": {
    "name": "ipython",
    "version": 3
   },
   "file_extension": ".py",
   "mimetype": "text/x-python",
   "name": "python",
   "nbconvert_exporter": "python",
   "pygments_lexer": "ipython3",
   "version": "3.12.2"
  }
 },
 "nbformat": 4,
 "nbformat_minor": 5
}
