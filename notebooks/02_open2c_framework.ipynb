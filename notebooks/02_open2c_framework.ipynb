{
 "cells": [
  {
   "cell_type": "markdown",
   "id": "5496cb93-6762-437c-9218-85cfd660a8da",
   "metadata": {},
   "source": [
    "# `pairtools`: Convert sequencing data to a list of contacts"
   ]
  },
  {
   "cell_type": "code",
   "execution_count": 7,
   "id": "db721520-5705-44b6-b20f-2bda8182a1ff",
   "metadata": {},
   "outputs": [
    {
     "name": "stdout",
     "output_type": "stream",
     "text": [
      "SRR6502335.1\t16\tchr2\t194419849\t44\t149M1S\t*\t0\t0\tAGAGAGAAAGAGTAGAAGGGAGAAACAAAGGGCAGGAGAGGGGATAGATGAAGAGGAACTAGACTTTGCACATATTGGCTGGCAATGATGGAATAGTCCAGTTTCAAAGAGTGAGATCTTGTAGTTATCTTCTCATTTATTCACTTAATN\t<FFAF-J7AJJA7AFA77-<AAF-7-A7-7A7-FJ<FA7FAA-7--AAA--<<A7FFJAJJJA<-A-F7F7<-A<F7---<A<JJFFAAF7JFAAJ<FFJF-<-FJJFFFFFJFAF<<-AJJJJJFFF-JFJFFJF7AFJFFFAA-AAA#\tAS:i:285\tXN:i:0\tXM:i:2\tXO:i:0\tXG:i:0\tNM:i:2\tMD:Z:44G78A25\tYT:Z:UU\n"
     ]
    }
   ],
   "source": [
    "%%bash \n",
    "\n",
    "cd ../steps/bowtie2/local/bamfiles\n",
    "\n",
    "samtools view SRR6502335_1.bam | head -n1"
   ]
  },
  {
   "cell_type": "markdown",
   "id": "50ff1f35-0034-4dc7-ba9c-857230694918",
   "metadata": {
    "jp-MarkdownHeadingCollapsed": true
   },
   "source": [
    "# HiC data analysis with `cooler` and `cooltools`"
   ]
  },
  {
   "cell_type": "markdown",
   "id": "97330563",
   "metadata": {},
   "source": [
    "## Introduction \n",
    "\n",
    "First, we have to check the data output from HiCExplorer. The output is a `.cool` file, which is a binary format for storing Hi-C data. The file contains the binned contact matrix and the genomic coordinates of the bins.\n",
    "\n",
    "The `cooler` package is a Python library for working with `.cool` files. It provides tools for reading, writing, and manipulating Hi-C data. The `cooltools` package is a collection of tools for analyzing Hi-C data, including normalization, visualization, and interaction calling."
   ]
  },
  {
   "cell_type": "markdown",
   "id": "5be7812d",
   "metadata": {},
   "source": [
    "## Follow `cooler` walkthrough from the documentation"
   ]
  },
  {
   "cell_type": "code",
   "execution_count": 2,
   "id": "445b04fa-9790-4f3a-88f9-9cbc18155c1b",
   "metadata": {},
   "outputs": [],
   "source": [
    "# Import the packages we will use\n",
    "import os.path as op\n",
    "import matplotlib.pyplot as plt\n",
    "import numpy as np\n",
    "import pandas\n",
    "import h5py\n",
    "\n",
    "import cooler"
   ]
  },
  {
   "cell_type": "code",
   "execution_count": 3,
   "id": "9732f6f5",
   "metadata": {},
   "outputs": [],
   "source": [
    "# The following directive activates inline plotting\n",
    "%matplotlib inline"
   ]
  },
  {
   "cell_type": "code",
   "execution_count": 4,
   "id": "96606d8b-ef90-4fc4-88f2-f7a2e302db2b",
   "metadata": {},
   "outputs": [],
   "source": [
    "# Define the filepath (I choose the uncorrected matrix)\n",
    "\n",
    "filepath = \"../steps/bowtie2/local/matrices/filtered_pooled_10kb.cool\"\n"
   ]
  },
  {
   "cell_type": "markdown",
   "id": "2bb659cf-075d-44f2-9a03-e17029d913b1",
   "metadata": {},
   "source": [
    "### Direct access with `h5py`"
   ]
  },
  {
   "cell_type": "code",
   "execution_count": 5,
   "id": "1ae354b3-5a4e-4bb1-92f7-823efc1a7de8",
   "metadata": {},
   "outputs": [
    {
     "data": {
      "text/plain": [
       "<HDF5 file \"filtered_pooled_10kb.cool\" (mode r)>"
      ]
     },
     "execution_count": 5,
     "metadata": {},
     "output_type": "execute_result"
    }
   ],
   "source": [
    "h5 = h5py.File(filepath, 'r')\n",
    "h5"
   ]
  },
  {
   "cell_type": "code",
   "execution_count": 6,
   "id": "75ce8348-16d0-4a77-bbee-16b3c6c23fd9",
   "metadata": {},
   "outputs": [
    {
     "data": {
      "text/plain": [
       "<KeysViewHDF5 ['bins', 'chroms', 'indexes', 'pixels']>"
      ]
     },
     "execution_count": 6,
     "metadata": {},
     "output_type": "execute_result"
    }
   ],
   "source": [
    "h5.keys()"
   ]
  },
  {
   "cell_type": "code",
   "execution_count": 7,
   "id": "d6a14187-25e0-414d-bb0c-9ab51cc5ca5c",
   "metadata": {},
   "outputs": [
    {
     "data": {
      "text/plain": [
       "<HDF5 group \"/pixels\" (3 members)>"
      ]
     },
     "execution_count": 7,
     "metadata": {},
     "output_type": "execute_result"
    }
   ],
   "source": [
    "h5['pixels']"
   ]
  },
  {
   "cell_type": "code",
   "execution_count": 8,
   "id": "6ddfd61f-92f8-4be3-9e28-dbfc91a6b667",
   "metadata": {},
   "outputs": [
    {
     "data": {
      "text/plain": [
       "['bin1_id', 'bin2_id', 'count']"
      ]
     },
     "execution_count": 8,
     "metadata": {},
     "output_type": "execute_result"
    }
   ],
   "source": [
    "list(h5['pixels'].keys())"
   ]
  },
  {
   "cell_type": "markdown",
   "id": "abd1fa0f-a6d1-4656-bff9-4e123e94948e",
   "metadata": {},
   "source": [
    "h5py dataset objects are views onto the data on disk"
   ]
  },
  {
   "cell_type": "code",
   "execution_count": 9,
   "id": "9f277dd7-6d30-49e0-aea4-0e2cd04a34fd",
   "metadata": {},
   "outputs": [
    {
     "data": {
      "text/plain": [
       "<HDF5 dataset \"bin2_id\": shape (117090191,), type \"<i4\">"
      ]
     },
     "execution_count": 9,
     "metadata": {},
     "output_type": "execute_result"
    }
   ],
   "source": [
    "h5['pixels']['bin2_id']"
   ]
  },
  {
   "cell_type": "markdown",
   "id": "e2b3a133-9f28-43bc-8f07-1124f5f9d48a",
   "metadata": {},
   "source": [
    "Slicing or indexing returns a numpy array in memory."
   ]
  },
  {
   "cell_type": "code",
   "execution_count": 10,
   "id": "aab334bd-35e6-4540-9157-eeefb2d4f66c",
   "metadata": {},
   "outputs": [
    {
     "data": {
      "text/plain": [
       "array([   0,    9,   30,   33,  124,  127,  145,  756, 1167, 2416],\n",
       "      dtype=int32)"
      ]
     },
     "execution_count": 10,
     "metadata": {},
     "output_type": "execute_result"
    }
   ],
   "source": [
    "h5['pixels']['bin2_id'][:10]"
   ]
  },
  {
   "cell_type": "code",
   "execution_count": 11,
   "id": "8da804d9-ff8d-4f25-ad45-810ebe700b56",
   "metadata": {},
   "outputs": [
    {
     "data": {
      "text/plain": [
       "array([1., 1., 1., 1., 1., 1., 1., 1., 1., 1.])"
      ]
     },
     "execution_count": 11,
     "metadata": {},
     "output_type": "execute_result"
    }
   ],
   "source": [
    "h5['pixels']['count'][:10]\n"
   ]
  },
  {
   "cell_type": "code",
   "execution_count": 12,
   "id": "8f6a4251-2e28-4fc6-9d1e-0317cdded59c",
   "metadata": {},
   "outputs": [],
   "source": [
    "h5.close()"
   ]
  },
  {
   "cell_type": "markdown",
   "id": "7fd2611b-d8b8-4a5b-a39a-4308dbd53222",
   "metadata": {},
   "source": [
    "The Python cooler package is just a thin wrapper over h5py.\n",
    "\n",
    "* It lets you access the data tables as Pandas data frames and series.\n",
    "* It also provides a matrix abstraction: letting you query the upper triangle pixel table as if it were a full rectangular sparse matrix via SciPy."
   ]
  },
  {
   "cell_type": "markdown",
   "id": "e81702c0-37e7-4b4f-8449-94114af8f7e1",
   "metadata": {},
   "source": [
    "### The `Cooler` class\n",
    "\n",
    "Accepts a file path or an open HDF5 file object.\n",
    "\n",
    "NOTE: Using a filepath allows the `Cooler` object to be  serialized/pickled since the file is only opened when needed"
   ]
  },
  {
   "cell_type": "code",
   "execution_count": 13,
   "id": "18135174-671f-4843-81c8-b0b034369ccd",
   "metadata": {},
   "outputs": [],
   "source": [
    "c = cooler.Cooler(filepath)"
   ]
  },
  {
   "cell_type": "code",
   "execution_count": 14,
   "id": "16b427a8-922c-4d56-a22b-0b76ea14111d",
   "metadata": {},
   "outputs": [
    {
     "data": {
      "text/plain": [
       "{'bin-size': 10000,\n",
       " 'bin-type': 'fixed',\n",
       " 'creation-date': '2024-09-24T21:20:38.656143',\n",
       " 'format': 'HDF5::Cooler',\n",
       " 'format-url': 'https://github.com/mirnylab/cooler',\n",
       " 'format-version': 3,\n",
       " 'generated-by': 'HiCMatrix-17.2',\n",
       " 'generated-by-cooler-lib': 'cooler-0.10.2',\n",
       " 'genome-assembly': 'unknown',\n",
       " 'metadata': {'format': 'HDF5::Cooler',\n",
       "  'format-url': 'https://github.com/mirnylab/cooler',\n",
       "  'generated-by': 'HiCMatrix-17.2',\n",
       "  'generated-by-cooler-lib': 'cooler-0.10.2',\n",
       "  'tool-url': 'https://github.com/deeptools/HiCMatrix'},\n",
       " 'nbins': 285406,\n",
       " 'nchroms': 22,\n",
       " 'nnz': 117090191,\n",
       " 'storage-mode': 'symmetric-upper',\n",
       " 'sum': 193589731.0,\n",
       " 'tool-url': 'https://github.com/deeptools/HiCMatrix'}"
      ]
     },
     "execution_count": 14,
     "metadata": {},
     "output_type": "execute_result"
    }
   ],
   "source": [
    "c.info"
   ]
  },
  {
   "cell_type": "code",
   "execution_count": 15,
   "id": "2b215da8-dd59-461c-85a6-e449e70b1ead",
   "metadata": {},
   "outputs": [
    {
     "data": {
      "text/plain": [
       "<cooler.core._selectors.RangeSelector1D at 0x146a5acf1cd0>"
      ]
     },
     "execution_count": 15,
     "metadata": {},
     "output_type": "execute_result"
    }
   ],
   "source": [
    "c.chroms()"
   ]
  },
  {
   "cell_type": "markdown",
   "id": "362aa334-0626-44db-990e-94af1b23bb2f",
   "metadata": {},
   "source": [
    "The return value is a selector or \"view\" on a table that accepts column and range queries (\"slices\").\n",
    "\n",
    "* Column selections return a new view.\n",
    "* Range selections return pandas DataFrames or Series."
   ]
  },
  {
   "cell_type": "code",
   "execution_count": 16,
   "id": "60745da2-ad77-4fa8-b1ef-0fdede48a137",
   "metadata": {},
   "outputs": [
    {
     "data": {
      "text/html": [
       "<div>\n",
       "<style scoped>\n",
       "    .dataframe tbody tr th:only-of-type {\n",
       "        vertical-align: middle;\n",
       "    }\n",
       "\n",
       "    .dataframe tbody tr th {\n",
       "        vertical-align: top;\n",
       "    }\n",
       "\n",
       "    .dataframe thead th {\n",
       "        text-align: right;\n",
       "    }\n",
       "</style>\n",
       "<table border=\"1\" class=\"dataframe\">\n",
       "  <thead>\n",
       "    <tr style=\"text-align: right;\">\n",
       "      <th></th>\n",
       "      <th>name</th>\n",
       "      <th>length</th>\n",
       "    </tr>\n",
       "  </thead>\n",
       "  <tbody>\n",
       "    <tr>\n",
       "      <th>0</th>\n",
       "      <td>chr1</td>\n",
       "      <td>223616942</td>\n",
       "    </tr>\n",
       "    <tr>\n",
       "      <th>1</th>\n",
       "      <td>chr2</td>\n",
       "      <td>196197964</td>\n",
       "    </tr>\n",
       "    <tr>\n",
       "      <th>2</th>\n",
       "      <td>chr3</td>\n",
       "      <td>185288947</td>\n",
       "    </tr>\n",
       "    <tr>\n",
       "      <th>3</th>\n",
       "      <td>chr4</td>\n",
       "      <td>169963040</td>\n",
       "    </tr>\n",
       "    <tr>\n",
       "      <th>4</th>\n",
       "      <td>chr5</td>\n",
       "      <td>187317192</td>\n",
       "    </tr>\n",
       "  </tbody>\n",
       "</table>\n",
       "</div>"
      ],
      "text/plain": [
       "   name     length\n",
       "0  chr1  223616942\n",
       "1  chr2  196197964\n",
       "2  chr3  185288947\n",
       "3  chr4  169963040\n",
       "4  chr5  187317192"
      ]
     },
     "execution_count": 16,
     "metadata": {},
     "output_type": "execute_result"
    }
   ],
   "source": [
    "# Get a slice of the chromosomes\n",
    "c.chroms()[0:5]\n",
    "\n",
    "# Or the whole dict\n",
    "#c.chroms()[:]"
   ]
  },
  {
   "cell_type": "code",
   "execution_count": 17,
   "id": "4fa16853-6405-4ae2-af41-1f4acfe673aa",
   "metadata": {},
   "outputs": [
    {
     "data": {
      "text/plain": [
       "(['chr1',\n",
       "  'chr2',\n",
       "  'chr3',\n",
       "  'chr4',\n",
       "  'chr5',\n",
       "  'chr6',\n",
       "  'chr7',\n",
       "  'chr8',\n",
       "  'chr9',\n",
       "  'chr10',\n",
       "  'chr11',\n",
       "  'chr12',\n",
       "  'chr13',\n",
       "  'chr14',\n",
       "  'chr15',\n",
       "  'chr16',\n",
       "  'chr17',\n",
       "  'chr18',\n",
       "  'chr19',\n",
       "  'chr20',\n",
       "  'chrX',\n",
       "  'chrY'],\n",
       " name\n",
       " chr1     223616942\n",
       " chr2     196197964\n",
       " chr3     185288947\n",
       " chr4     169963040\n",
       " chr5     187317192\n",
       " chr6     179085566\n",
       " chr7     169868564\n",
       " chr8     145679320\n",
       " chr9     134124166\n",
       " chr10     99517758\n",
       " chr11    133066086\n",
       " chr12    130043856\n",
       " chr13    108737130\n",
       " chr14    128056306\n",
       " chr15    113283604\n",
       " chr16     79627064\n",
       " chr17     95433459\n",
       " chr18     74474043\n",
       " chr19     58315233\n",
       " chr20     77137495\n",
       " chrX     153388924\n",
       " chrY      11753682\n",
       " Name: length, dtype: int32)"
      ]
     },
     "execution_count": 17,
     "metadata": {},
     "output_type": "execute_result"
    }
   ],
   "source": [
    "# Convenience\n",
    "c.chromnames, c.chromsizes"
   ]
  },
  {
   "cell_type": "code",
   "execution_count": 18,
   "id": "c0b295d5-86ca-43c8-ae69-44d26953c058",
   "metadata": {},
   "outputs": [
    {
     "data": {
      "text/html": [
       "<div>\n",
       "<style scoped>\n",
       "    .dataframe tbody tr th:only-of-type {\n",
       "        vertical-align: middle;\n",
       "    }\n",
       "\n",
       "    .dataframe tbody tr th {\n",
       "        vertical-align: top;\n",
       "    }\n",
       "\n",
       "    .dataframe thead th {\n",
       "        text-align: right;\n",
       "    }\n",
       "</style>\n",
       "<table border=\"1\" class=\"dataframe\">\n",
       "  <thead>\n",
       "    <tr style=\"text-align: right;\">\n",
       "      <th></th>\n",
       "      <th>chrom</th>\n",
       "      <th>start</th>\n",
       "      <th>end</th>\n",
       "    </tr>\n",
       "  </thead>\n",
       "  <tbody>\n",
       "    <tr>\n",
       "      <th>0</th>\n",
       "      <td>chr1</td>\n",
       "      <td>0</td>\n",
       "      <td>10000</td>\n",
       "    </tr>\n",
       "    <tr>\n",
       "      <th>1</th>\n",
       "      <td>chr1</td>\n",
       "      <td>10000</td>\n",
       "      <td>20000</td>\n",
       "    </tr>\n",
       "    <tr>\n",
       "      <th>2</th>\n",
       "      <td>chr1</td>\n",
       "      <td>20000</td>\n",
       "      <td>30000</td>\n",
       "    </tr>\n",
       "    <tr>\n",
       "      <th>3</th>\n",
       "      <td>chr1</td>\n",
       "      <td>30000</td>\n",
       "      <td>40000</td>\n",
       "    </tr>\n",
       "    <tr>\n",
       "      <th>4</th>\n",
       "      <td>chr1</td>\n",
       "      <td>40000</td>\n",
       "      <td>50000</td>\n",
       "    </tr>\n",
       "    <tr>\n",
       "      <th>5</th>\n",
       "      <td>chr1</td>\n",
       "      <td>50000</td>\n",
       "      <td>60000</td>\n",
       "    </tr>\n",
       "    <tr>\n",
       "      <th>6</th>\n",
       "      <td>chr1</td>\n",
       "      <td>60000</td>\n",
       "      <td>70000</td>\n",
       "    </tr>\n",
       "    <tr>\n",
       "      <th>7</th>\n",
       "      <td>chr1</td>\n",
       "      <td>70000</td>\n",
       "      <td>80000</td>\n",
       "    </tr>\n",
       "    <tr>\n",
       "      <th>8</th>\n",
       "      <td>chr1</td>\n",
       "      <td>80000</td>\n",
       "      <td>90000</td>\n",
       "    </tr>\n",
       "    <tr>\n",
       "      <th>9</th>\n",
       "      <td>chr1</td>\n",
       "      <td>90000</td>\n",
       "      <td>100000</td>\n",
       "    </tr>\n",
       "  </tbody>\n",
       "</table>\n",
       "</div>"
      ],
      "text/plain": [
       "  chrom  start     end\n",
       "0  chr1      0   10000\n",
       "1  chr1  10000   20000\n",
       "2  chr1  20000   30000\n",
       "3  chr1  30000   40000\n",
       "4  chr1  40000   50000\n",
       "5  chr1  50000   60000\n",
       "6  chr1  60000   70000\n",
       "7  chr1  70000   80000\n",
       "8  chr1  80000   90000\n",
       "9  chr1  90000  100000"
      ]
     },
     "execution_count": 18,
     "metadata": {},
     "output_type": "execute_result"
    }
   ],
   "source": [
    "# Access bins\n",
    "c.bins()[:10]"
   ]
  },
  {
   "cell_type": "markdown",
   "id": "67289c11-111f-4a34-a51a-35d36ffd7eab",
   "metadata": {},
   "source": [
    "Selecting a list of columns returns a new DataFrame view on that subset of columns"
   ]
  },
  {
   "cell_type": "code",
   "execution_count": 19,
   "id": "dc5256e8-278e-4f7f-965e-728c2be229b1",
   "metadata": {},
   "outputs": [
    {
     "data": {
      "text/plain": [
       "<cooler.core._selectors.RangeSelector1D at 0x146a60464a40>"
      ]
     },
     "execution_count": 19,
     "metadata": {},
     "output_type": "execute_result"
    }
   ],
   "source": [
    "bins = c.bins()[['chrom', 'start', 'end']]\n",
    "bins"
   ]
  },
  {
   "cell_type": "code",
   "execution_count": 20,
   "id": "c94a2d32-1262-471c-8f00-1a6fa5e18743",
   "metadata": {},
   "outputs": [
    {
     "data": {
      "text/html": [
       "<div>\n",
       "<style scoped>\n",
       "    .dataframe tbody tr th:only-of-type {\n",
       "        vertical-align: middle;\n",
       "    }\n",
       "\n",
       "    .dataframe tbody tr th {\n",
       "        vertical-align: top;\n",
       "    }\n",
       "\n",
       "    .dataframe thead th {\n",
       "        text-align: right;\n",
       "    }\n",
       "</style>\n",
       "<table border=\"1\" class=\"dataframe\">\n",
       "  <thead>\n",
       "    <tr style=\"text-align: right;\">\n",
       "      <th></th>\n",
       "      <th>chrom</th>\n",
       "      <th>start</th>\n",
       "      <th>end</th>\n",
       "    </tr>\n",
       "  </thead>\n",
       "  <tbody>\n",
       "    <tr>\n",
       "      <th>0</th>\n",
       "      <td>chr1</td>\n",
       "      <td>0</td>\n",
       "      <td>10000</td>\n",
       "    </tr>\n",
       "    <tr>\n",
       "      <th>1</th>\n",
       "      <td>chr1</td>\n",
       "      <td>10000</td>\n",
       "      <td>20000</td>\n",
       "    </tr>\n",
       "    <tr>\n",
       "      <th>2</th>\n",
       "      <td>chr1</td>\n",
       "      <td>20000</td>\n",
       "      <td>30000</td>\n",
       "    </tr>\n",
       "    <tr>\n",
       "      <th>3</th>\n",
       "      <td>chr1</td>\n",
       "      <td>30000</td>\n",
       "      <td>40000</td>\n",
       "    </tr>\n",
       "    <tr>\n",
       "      <th>4</th>\n",
       "      <td>chr1</td>\n",
       "      <td>40000</td>\n",
       "      <td>50000</td>\n",
       "    </tr>\n",
       "  </tbody>\n",
       "</table>\n",
       "</div>"
      ],
      "text/plain": [
       "  chrom  start    end\n",
       "0  chr1      0  10000\n",
       "1  chr1  10000  20000\n",
       "2  chr1  20000  30000\n",
       "3  chr1  30000  40000\n",
       "4  chr1  40000  50000"
      ]
     },
     "execution_count": 20,
     "metadata": {},
     "output_type": "execute_result"
    }
   ],
   "source": [
    "bins[:5]"
   ]
  },
  {
   "cell_type": "markdown",
   "id": "deddc4c0-eece-482a-b1f6-9b1564665574",
   "metadata": {},
   "source": [
    "The pixel table contains the non-zero upper triangle entries of the contact map."
   ]
  },
  {
   "cell_type": "code",
   "execution_count": 21,
   "id": "8fb3b186-1e8a-4126-9610-1833b975aea5",
   "metadata": {},
   "outputs": [
    {
     "data": {
      "text/html": [
       "<div>\n",
       "<style scoped>\n",
       "    .dataframe tbody tr th:only-of-type {\n",
       "        vertical-align: middle;\n",
       "    }\n",
       "\n",
       "    .dataframe tbody tr th {\n",
       "        vertical-align: top;\n",
       "    }\n",
       "\n",
       "    .dataframe thead th {\n",
       "        text-align: right;\n",
       "    }\n",
       "</style>\n",
       "<table border=\"1\" class=\"dataframe\">\n",
       "  <thead>\n",
       "    <tr style=\"text-align: right;\">\n",
       "      <th></th>\n",
       "      <th>bin1_id</th>\n",
       "      <th>bin2_id</th>\n",
       "      <th>count</th>\n",
       "    </tr>\n",
       "  </thead>\n",
       "  <tbody>\n",
       "    <tr>\n",
       "      <th>0</th>\n",
       "      <td>0</td>\n",
       "      <td>0</td>\n",
       "      <td>1.0</td>\n",
       "    </tr>\n",
       "    <tr>\n",
       "      <th>1</th>\n",
       "      <td>0</td>\n",
       "      <td>9</td>\n",
       "      <td>1.0</td>\n",
       "    </tr>\n",
       "    <tr>\n",
       "      <th>2</th>\n",
       "      <td>0</td>\n",
       "      <td>30</td>\n",
       "      <td>1.0</td>\n",
       "    </tr>\n",
       "    <tr>\n",
       "      <th>3</th>\n",
       "      <td>0</td>\n",
       "      <td>33</td>\n",
       "      <td>1.0</td>\n",
       "    </tr>\n",
       "    <tr>\n",
       "      <th>4</th>\n",
       "      <td>0</td>\n",
       "      <td>124</td>\n",
       "      <td>1.0</td>\n",
       "    </tr>\n",
       "    <tr>\n",
       "      <th>5</th>\n",
       "      <td>0</td>\n",
       "      <td>127</td>\n",
       "      <td>1.0</td>\n",
       "    </tr>\n",
       "    <tr>\n",
       "      <th>6</th>\n",
       "      <td>0</td>\n",
       "      <td>145</td>\n",
       "      <td>1.0</td>\n",
       "    </tr>\n",
       "    <tr>\n",
       "      <th>7</th>\n",
       "      <td>0</td>\n",
       "      <td>756</td>\n",
       "      <td>1.0</td>\n",
       "    </tr>\n",
       "    <tr>\n",
       "      <th>8</th>\n",
       "      <td>0</td>\n",
       "      <td>1167</td>\n",
       "      <td>1.0</td>\n",
       "    </tr>\n",
       "    <tr>\n",
       "      <th>9</th>\n",
       "      <td>0</td>\n",
       "      <td>2416</td>\n",
       "      <td>1.0</td>\n",
       "    </tr>\n",
       "  </tbody>\n",
       "</table>\n",
       "</div>"
      ],
      "text/plain": [
       "   bin1_id  bin2_id  count\n",
       "0        0        0    1.0\n",
       "1        0        9    1.0\n",
       "2        0       30    1.0\n",
       "3        0       33    1.0\n",
       "4        0      124    1.0\n",
       "5        0      127    1.0\n",
       "6        0      145    1.0\n",
       "7        0      756    1.0\n",
       "8        0     1167    1.0\n",
       "9        0     2416    1.0"
      ]
     },
     "metadata": {},
     "output_type": "display_data"
    },
    {
     "data": {
      "text/html": [
       "<div>\n",
       "<style scoped>\n",
       "    .dataframe tbody tr th:only-of-type {\n",
       "        vertical-align: middle;\n",
       "    }\n",
       "\n",
       "    .dataframe tbody tr th {\n",
       "        vertical-align: top;\n",
       "    }\n",
       "\n",
       "    .dataframe thead th {\n",
       "        text-align: right;\n",
       "    }\n",
       "</style>\n",
       "<table border=\"1\" class=\"dataframe\">\n",
       "  <thead>\n",
       "    <tr style=\"text-align: right;\">\n",
       "      <th></th>\n",
       "      <th>chrom1</th>\n",
       "      <th>start1</th>\n",
       "      <th>end1</th>\n",
       "      <th>chrom2</th>\n",
       "      <th>start2</th>\n",
       "      <th>end2</th>\n",
       "      <th>count</th>\n",
       "    </tr>\n",
       "  </thead>\n",
       "  <tbody>\n",
       "    <tr>\n",
       "      <th>0</th>\n",
       "      <td>chr1</td>\n",
       "      <td>0</td>\n",
       "      <td>10000</td>\n",
       "      <td>chr1</td>\n",
       "      <td>0</td>\n",
       "      <td>10000</td>\n",
       "      <td>1.0</td>\n",
       "    </tr>\n",
       "    <tr>\n",
       "      <th>1</th>\n",
       "      <td>chr1</td>\n",
       "      <td>0</td>\n",
       "      <td>10000</td>\n",
       "      <td>chr1</td>\n",
       "      <td>90000</td>\n",
       "      <td>100000</td>\n",
       "      <td>1.0</td>\n",
       "    </tr>\n",
       "    <tr>\n",
       "      <th>2</th>\n",
       "      <td>chr1</td>\n",
       "      <td>0</td>\n",
       "      <td>10000</td>\n",
       "      <td>chr1</td>\n",
       "      <td>300000</td>\n",
       "      <td>310000</td>\n",
       "      <td>1.0</td>\n",
       "    </tr>\n",
       "    <tr>\n",
       "      <th>3</th>\n",
       "      <td>chr1</td>\n",
       "      <td>0</td>\n",
       "      <td>10000</td>\n",
       "      <td>chr1</td>\n",
       "      <td>330000</td>\n",
       "      <td>340000</td>\n",
       "      <td>1.0</td>\n",
       "    </tr>\n",
       "    <tr>\n",
       "      <th>4</th>\n",
       "      <td>chr1</td>\n",
       "      <td>0</td>\n",
       "      <td>10000</td>\n",
       "      <td>chr1</td>\n",
       "      <td>1240000</td>\n",
       "      <td>1250000</td>\n",
       "      <td>1.0</td>\n",
       "    </tr>\n",
       "    <tr>\n",
       "      <th>5</th>\n",
       "      <td>chr1</td>\n",
       "      <td>0</td>\n",
       "      <td>10000</td>\n",
       "      <td>chr1</td>\n",
       "      <td>1270000</td>\n",
       "      <td>1280000</td>\n",
       "      <td>1.0</td>\n",
       "    </tr>\n",
       "    <tr>\n",
       "      <th>6</th>\n",
       "      <td>chr1</td>\n",
       "      <td>0</td>\n",
       "      <td>10000</td>\n",
       "      <td>chr1</td>\n",
       "      <td>1450000</td>\n",
       "      <td>1460000</td>\n",
       "      <td>1.0</td>\n",
       "    </tr>\n",
       "    <tr>\n",
       "      <th>7</th>\n",
       "      <td>chr1</td>\n",
       "      <td>0</td>\n",
       "      <td>10000</td>\n",
       "      <td>chr1</td>\n",
       "      <td>7560000</td>\n",
       "      <td>7570000</td>\n",
       "      <td>1.0</td>\n",
       "    </tr>\n",
       "    <tr>\n",
       "      <th>8</th>\n",
       "      <td>chr1</td>\n",
       "      <td>0</td>\n",
       "      <td>10000</td>\n",
       "      <td>chr1</td>\n",
       "      <td>11670000</td>\n",
       "      <td>11680000</td>\n",
       "      <td>1.0</td>\n",
       "    </tr>\n",
       "    <tr>\n",
       "      <th>9</th>\n",
       "      <td>chr1</td>\n",
       "      <td>0</td>\n",
       "      <td>10000</td>\n",
       "      <td>chr1</td>\n",
       "      <td>24160000</td>\n",
       "      <td>24170000</td>\n",
       "      <td>1.0</td>\n",
       "    </tr>\n",
       "  </tbody>\n",
       "</table>\n",
       "</div>"
      ],
      "text/plain": [
       "  chrom1  start1   end1 chrom2    start2      end2  count\n",
       "0   chr1       0  10000   chr1         0     10000    1.0\n",
       "1   chr1       0  10000   chr1     90000    100000    1.0\n",
       "2   chr1       0  10000   chr1    300000    310000    1.0\n",
       "3   chr1       0  10000   chr1    330000    340000    1.0\n",
       "4   chr1       0  10000   chr1   1240000   1250000    1.0\n",
       "5   chr1       0  10000   chr1   1270000   1280000    1.0\n",
       "6   chr1       0  10000   chr1   1450000   1460000    1.0\n",
       "7   chr1       0  10000   chr1   7560000   7570000    1.0\n",
       "8   chr1       0  10000   chr1  11670000  11680000    1.0\n",
       "9   chr1       0  10000   chr1  24160000  24170000    1.0"
      ]
     },
     "metadata": {},
     "output_type": "display_data"
    }
   ],
   "source": [
    "# Use the join=True option if you would like to expand the bin IDs into genomic bin coordinates by joining the output with the bin table.\n",
    "\n",
    "display(c.pixels()[:10], c.pixels(join=True)[:10])"
   ]
  },
  {
   "cell_type": "markdown",
   "id": "461fb4ea-0785-424e-a0e6-7513e2bd30c5",
   "metadata": {},
   "source": [
    "Dump any table selection with pandas to tabular"
   ]
  },
  {
   "cell_type": "code",
   "execution_count": 22,
   "id": "f7d228e2-e6f2-45db-b9c5-4c9f9c566067",
   "metadata": {},
   "outputs": [],
   "source": [
    "df = c.pixels(join=True)[:100]\n",
    "\n",
    "# df.to_csv('data/myselection.txt'), sep='\\t', index=False, header=False) "
   ]
  },
  {
   "cell_type": "markdown",
   "id": "4ad911bd-f0bb-4a7c-91ab-0871c48aa5c1",
   "metadata": {},
   "source": [
    "### Bin annotation\n",
    "\n",
    "Another way to annotate the bins in a data frame of pixels is to use cooler.annotate. It does a left outer join from the bin1_id and bin2_id columns onto a data frame indexed by bin ID that describes the bins."
   ]
  },
  {
   "cell_type": "code",
   "execution_count": 23,
   "id": "62330aef-3fd1-4134-889f-2858f8ab934a",
   "metadata": {},
   "outputs": [
    {
     "data": {
      "text/html": [
       "<div>\n",
       "<style scoped>\n",
       "    .dataframe tbody tr th:only-of-type {\n",
       "        vertical-align: middle;\n",
       "    }\n",
       "\n",
       "    .dataframe tbody tr th {\n",
       "        vertical-align: top;\n",
       "    }\n",
       "\n",
       "    .dataframe thead th {\n",
       "        text-align: right;\n",
       "    }\n",
       "</style>\n",
       "<table border=\"1\" class=\"dataframe\">\n",
       "  <thead>\n",
       "    <tr style=\"text-align: right;\">\n",
       "      <th></th>\n",
       "      <th>bin1_id</th>\n",
       "      <th>bin2_id</th>\n",
       "      <th>count</th>\n",
       "    </tr>\n",
       "  </thead>\n",
       "  <tbody>\n",
       "    <tr>\n",
       "      <th>100</th>\n",
       "      <td>2</td>\n",
       "      <td>481</td>\n",
       "      <td>1.0</td>\n",
       "    </tr>\n",
       "    <tr>\n",
       "      <th>101</th>\n",
       "      <td>2</td>\n",
       "      <td>500</td>\n",
       "      <td>1.0</td>\n",
       "    </tr>\n",
       "    <tr>\n",
       "      <th>102</th>\n",
       "      <td>2</td>\n",
       "      <td>519</td>\n",
       "      <td>1.0</td>\n",
       "    </tr>\n",
       "    <tr>\n",
       "      <th>103</th>\n",
       "      <td>2</td>\n",
       "      <td>557</td>\n",
       "      <td>1.0</td>\n",
       "    </tr>\n",
       "    <tr>\n",
       "      <th>104</th>\n",
       "      <td>2</td>\n",
       "      <td>580</td>\n",
       "      <td>1.0</td>\n",
       "    </tr>\n",
       "    <tr>\n",
       "      <th>105</th>\n",
       "      <td>2</td>\n",
       "      <td>594</td>\n",
       "      <td>1.0</td>\n",
       "    </tr>\n",
       "    <tr>\n",
       "      <th>106</th>\n",
       "      <td>2</td>\n",
       "      <td>606</td>\n",
       "      <td>1.0</td>\n",
       "    </tr>\n",
       "    <tr>\n",
       "      <th>107</th>\n",
       "      <td>2</td>\n",
       "      <td>621</td>\n",
       "      <td>1.0</td>\n",
       "    </tr>\n",
       "    <tr>\n",
       "      <th>108</th>\n",
       "      <td>2</td>\n",
       "      <td>625</td>\n",
       "      <td>1.0</td>\n",
       "    </tr>\n",
       "    <tr>\n",
       "      <th>109</th>\n",
       "      <td>2</td>\n",
       "      <td>646</td>\n",
       "      <td>1.0</td>\n",
       "    </tr>\n",
       "  </tbody>\n",
       "</table>\n",
       "</div>"
      ],
      "text/plain": [
       "     bin1_id  bin2_id  count\n",
       "100        2      481    1.0\n",
       "101        2      500    1.0\n",
       "102        2      519    1.0\n",
       "103        2      557    1.0\n",
       "104        2      580    1.0\n",
       "105        2      594    1.0\n",
       "106        2      606    1.0\n",
       "107        2      621    1.0\n",
       "108        2      625    1.0\n",
       "109        2      646    1.0"
      ]
     },
     "execution_count": 23,
     "metadata": {},
     "output_type": "execute_result"
    }
   ],
   "source": [
    "bins = c.bins()[:] # fetch all\n",
    "pix = c.pixels()[100:110] # select some pixels\n",
    "pix"
   ]
  },
  {
   "cell_type": "code",
   "execution_count": 24,
   "id": "b2917d74-6579-4457-afba-7e2538b1d7e1",
   "metadata": {},
   "outputs": [
    {
     "data": {
      "text/html": [
       "<div>\n",
       "<style scoped>\n",
       "    .dataframe tbody tr th:only-of-type {\n",
       "        vertical-align: middle;\n",
       "    }\n",
       "\n",
       "    .dataframe tbody tr th {\n",
       "        vertical-align: top;\n",
       "    }\n",
       "\n",
       "    .dataframe thead th {\n",
       "        text-align: right;\n",
       "    }\n",
       "</style>\n",
       "<table border=\"1\" class=\"dataframe\">\n",
       "  <thead>\n",
       "    <tr style=\"text-align: right;\">\n",
       "      <th></th>\n",
       "      <th>chrom1</th>\n",
       "      <th>start1</th>\n",
       "      <th>end1</th>\n",
       "      <th>chrom2</th>\n",
       "      <th>start2</th>\n",
       "      <th>end2</th>\n",
       "      <th>bin1_id</th>\n",
       "      <th>bin2_id</th>\n",
       "      <th>count</th>\n",
       "    </tr>\n",
       "  </thead>\n",
       "  <tbody>\n",
       "    <tr>\n",
       "      <th>100</th>\n",
       "      <td>chr1</td>\n",
       "      <td>20000</td>\n",
       "      <td>30000</td>\n",
       "      <td>chr1</td>\n",
       "      <td>4810000</td>\n",
       "      <td>4820000</td>\n",
       "      <td>2</td>\n",
       "      <td>481</td>\n",
       "      <td>1.0</td>\n",
       "    </tr>\n",
       "    <tr>\n",
       "      <th>101</th>\n",
       "      <td>chr1</td>\n",
       "      <td>20000</td>\n",
       "      <td>30000</td>\n",
       "      <td>chr1</td>\n",
       "      <td>5000000</td>\n",
       "      <td>5010000</td>\n",
       "      <td>2</td>\n",
       "      <td>500</td>\n",
       "      <td>1.0</td>\n",
       "    </tr>\n",
       "    <tr>\n",
       "      <th>102</th>\n",
       "      <td>chr1</td>\n",
       "      <td>20000</td>\n",
       "      <td>30000</td>\n",
       "      <td>chr1</td>\n",
       "      <td>5190000</td>\n",
       "      <td>5200000</td>\n",
       "      <td>2</td>\n",
       "      <td>519</td>\n",
       "      <td>1.0</td>\n",
       "    </tr>\n",
       "    <tr>\n",
       "      <th>103</th>\n",
       "      <td>chr1</td>\n",
       "      <td>20000</td>\n",
       "      <td>30000</td>\n",
       "      <td>chr1</td>\n",
       "      <td>5570000</td>\n",
       "      <td>5580000</td>\n",
       "      <td>2</td>\n",
       "      <td>557</td>\n",
       "      <td>1.0</td>\n",
       "    </tr>\n",
       "    <tr>\n",
       "      <th>104</th>\n",
       "      <td>chr1</td>\n",
       "      <td>20000</td>\n",
       "      <td>30000</td>\n",
       "      <td>chr1</td>\n",
       "      <td>5800000</td>\n",
       "      <td>5810000</td>\n",
       "      <td>2</td>\n",
       "      <td>580</td>\n",
       "      <td>1.0</td>\n",
       "    </tr>\n",
       "    <tr>\n",
       "      <th>105</th>\n",
       "      <td>chr1</td>\n",
       "      <td>20000</td>\n",
       "      <td>30000</td>\n",
       "      <td>chr1</td>\n",
       "      <td>5940000</td>\n",
       "      <td>5950000</td>\n",
       "      <td>2</td>\n",
       "      <td>594</td>\n",
       "      <td>1.0</td>\n",
       "    </tr>\n",
       "    <tr>\n",
       "      <th>106</th>\n",
       "      <td>chr1</td>\n",
       "      <td>20000</td>\n",
       "      <td>30000</td>\n",
       "      <td>chr1</td>\n",
       "      <td>6060000</td>\n",
       "      <td>6070000</td>\n",
       "      <td>2</td>\n",
       "      <td>606</td>\n",
       "      <td>1.0</td>\n",
       "    </tr>\n",
       "    <tr>\n",
       "      <th>107</th>\n",
       "      <td>chr1</td>\n",
       "      <td>20000</td>\n",
       "      <td>30000</td>\n",
       "      <td>chr1</td>\n",
       "      <td>6210000</td>\n",
       "      <td>6220000</td>\n",
       "      <td>2</td>\n",
       "      <td>621</td>\n",
       "      <td>1.0</td>\n",
       "    </tr>\n",
       "    <tr>\n",
       "      <th>108</th>\n",
       "      <td>chr1</td>\n",
       "      <td>20000</td>\n",
       "      <td>30000</td>\n",
       "      <td>chr1</td>\n",
       "      <td>6250000</td>\n",
       "      <td>6260000</td>\n",
       "      <td>2</td>\n",
       "      <td>625</td>\n",
       "      <td>1.0</td>\n",
       "    </tr>\n",
       "    <tr>\n",
       "      <th>109</th>\n",
       "      <td>chr1</td>\n",
       "      <td>20000</td>\n",
       "      <td>30000</td>\n",
       "      <td>chr1</td>\n",
       "      <td>6460000</td>\n",
       "      <td>6470000</td>\n",
       "      <td>2</td>\n",
       "      <td>646</td>\n",
       "      <td>1.0</td>\n",
       "    </tr>\n",
       "  </tbody>\n",
       "</table>\n",
       "</div>"
      ],
      "text/plain": [
       "    chrom1  start1   end1 chrom2   start2     end2  bin1_id  bin2_id  count\n",
       "100   chr1   20000  30000   chr1  4810000  4820000        2      481    1.0\n",
       "101   chr1   20000  30000   chr1  5000000  5010000        2      500    1.0\n",
       "102   chr1   20000  30000   chr1  5190000  5200000        2      519    1.0\n",
       "103   chr1   20000  30000   chr1  5570000  5580000        2      557    1.0\n",
       "104   chr1   20000  30000   chr1  5800000  5810000        2      580    1.0\n",
       "105   chr1   20000  30000   chr1  5940000  5950000        2      594    1.0\n",
       "106   chr1   20000  30000   chr1  6060000  6070000        2      606    1.0\n",
       "107   chr1   20000  30000   chr1  6210000  6220000        2      621    1.0\n",
       "108   chr1   20000  30000   chr1  6250000  6260000        2      625    1.0\n",
       "109   chr1   20000  30000   chr1  6460000  6470000        2      646    1.0"
      ]
     },
     "execution_count": 24,
     "metadata": {},
     "output_type": "execute_result"
    }
   ],
   "source": [
    "cooler.annotate(pix, bins)"
   ]
  },
  {
   "cell_type": "code",
   "execution_count": 25,
   "id": "eaacceea-e87d-497d-acee-bfecf3865026",
   "metadata": {},
   "outputs": [
    {
     "data": {
      "text/html": [
       "<div>\n",
       "<style scoped>\n",
       "    .dataframe tbody tr th:only-of-type {\n",
       "        vertical-align: middle;\n",
       "    }\n",
       "\n",
       "    .dataframe tbody tr th {\n",
       "        vertical-align: top;\n",
       "    }\n",
       "\n",
       "    .dataframe thead th {\n",
       "        text-align: right;\n",
       "    }\n",
       "</style>\n",
       "<table border=\"1\" class=\"dataframe\">\n",
       "  <thead>\n",
       "    <tr style=\"text-align: right;\">\n",
       "      <th></th>\n",
       "      <th>start1</th>\n",
       "      <th>start2</th>\n",
       "      <th>bin1_id</th>\n",
       "      <th>bin2_id</th>\n",
       "      <th>count</th>\n",
       "    </tr>\n",
       "  </thead>\n",
       "  <tbody>\n",
       "    <tr>\n",
       "      <th>100</th>\n",
       "      <td>20000</td>\n",
       "      <td>4810000</td>\n",
       "      <td>2</td>\n",
       "      <td>481</td>\n",
       "      <td>1.0</td>\n",
       "    </tr>\n",
       "    <tr>\n",
       "      <th>101</th>\n",
       "      <td>20000</td>\n",
       "      <td>5000000</td>\n",
       "      <td>2</td>\n",
       "      <td>500</td>\n",
       "      <td>1.0</td>\n",
       "    </tr>\n",
       "    <tr>\n",
       "      <th>102</th>\n",
       "      <td>20000</td>\n",
       "      <td>5190000</td>\n",
       "      <td>2</td>\n",
       "      <td>519</td>\n",
       "      <td>1.0</td>\n",
       "    </tr>\n",
       "    <tr>\n",
       "      <th>103</th>\n",
       "      <td>20000</td>\n",
       "      <td>5570000</td>\n",
       "      <td>2</td>\n",
       "      <td>557</td>\n",
       "      <td>1.0</td>\n",
       "    </tr>\n",
       "    <tr>\n",
       "      <th>104</th>\n",
       "      <td>20000</td>\n",
       "      <td>5800000</td>\n",
       "      <td>2</td>\n",
       "      <td>580</td>\n",
       "      <td>1.0</td>\n",
       "    </tr>\n",
       "    <tr>\n",
       "      <th>105</th>\n",
       "      <td>20000</td>\n",
       "      <td>5940000</td>\n",
       "      <td>2</td>\n",
       "      <td>594</td>\n",
       "      <td>1.0</td>\n",
       "    </tr>\n",
       "    <tr>\n",
       "      <th>106</th>\n",
       "      <td>20000</td>\n",
       "      <td>6060000</td>\n",
       "      <td>2</td>\n",
       "      <td>606</td>\n",
       "      <td>1.0</td>\n",
       "    </tr>\n",
       "    <tr>\n",
       "      <th>107</th>\n",
       "      <td>20000</td>\n",
       "      <td>6210000</td>\n",
       "      <td>2</td>\n",
       "      <td>621</td>\n",
       "      <td>1.0</td>\n",
       "    </tr>\n",
       "    <tr>\n",
       "      <th>108</th>\n",
       "      <td>20000</td>\n",
       "      <td>6250000</td>\n",
       "      <td>2</td>\n",
       "      <td>625</td>\n",
       "      <td>1.0</td>\n",
       "    </tr>\n",
       "    <tr>\n",
       "      <th>109</th>\n",
       "      <td>20000</td>\n",
       "      <td>6460000</td>\n",
       "      <td>2</td>\n",
       "      <td>646</td>\n",
       "      <td>1.0</td>\n",
       "    </tr>\n",
       "  </tbody>\n",
       "</table>\n",
       "</div>"
      ],
      "text/plain": [
       "     start1   start2  bin1_id  bin2_id  count\n",
       "100   20000  4810000        2      481    1.0\n",
       "101   20000  5000000        2      500    1.0\n",
       "102   20000  5190000        2      519    1.0\n",
       "103   20000  5570000        2      557    1.0\n",
       "104   20000  5800000        2      580    1.0\n",
       "105   20000  5940000        2      594    1.0\n",
       "106   20000  6060000        2      606    1.0\n",
       "107   20000  6210000        2      621    1.0\n",
       "108   20000  6250000        2      625    1.0\n",
       "109   20000  6460000        2      646    1.0"
      ]
     },
     "execution_count": 25,
     "metadata": {},
     "output_type": "execute_result"
    }
   ],
   "source": [
    "cooler.annotate(pix, bins[['start']], replace=False)"
   ]
  },
  {
   "cell_type": "markdown",
   "id": "42c33070-ec15-44ec-902f-de96e7cb4bf9",
   "metadata": {},
   "source": [
    "### Enter the Matrix\n",
    "\n",
    "Finally, the `matrix` method provides a 2D-sliceable view on the data. It allows you to query the data on file as a full rectangular contact matrix."
   ]
  },
  {
   "cell_type": "code",
   "execution_count": 26,
   "id": "6f93a797-2095-430d-9f95-7d907724bdf1",
   "metadata": {},
   "outputs": [
    {
     "data": {
      "text/plain": [
       "<cooler.core._selectors.RangeSelector2D at 0x146a5ad44470>"
      ]
     },
     "execution_count": 26,
     "metadata": {},
     "output_type": "execute_result"
    }
   ],
   "source": [
    "c.matrix()"
   ]
  },
  {
   "cell_type": "code",
   "execution_count": 27,
   "id": "26715ad8-71a9-4769-ba72-eea35209825e",
   "metadata": {},
   "outputs": [
    {
     "data": {
      "text/plain": [
       "array([[ 57.,  33.,   9., ...,   0.,   1.,   0.],\n",
       "       [ 33.,  88.,  33., ...,   1.,   0.,   0.],\n",
       "       [  9.,  33.,  74., ...,   0.,   0.,   0.],\n",
       "       ...,\n",
       "       [  0.,   1.,   0., ..., 104.,  27.,  12.],\n",
       "       [  1.,   0.,   0., ...,  27., 118.,  46.],\n",
       "       [  0.,   0.,   0., ...,  12.,  46., 135.]])"
      ]
     },
     "execution_count": 27,
     "metadata": {},
     "output_type": "execute_result"
    }
   ],
   "source": [
    "arr = c.matrix(balance=False)[1000:1200, 1000:1200]\n",
    "arr"
   ]
  },
  {
   "cell_type": "code",
   "execution_count": 28,
   "id": "d44945fd-5d61-429c-9968-fcb84ba448e9",
   "metadata": {},
   "outputs": [
    {
     "data": {
      "text/plain": [
       "<200x200 sparse matrix of type '<class 'numpy.float64'>'\n",
       "\twith 26544 stored elements in COOrdinate format>"
      ]
     },
     "execution_count": 28,
     "metadata": {},
     "output_type": "execute_result"
    }
   ],
   "source": [
    "# Use sparse=True to return a scipy.sparse.coo_matrix in stead\n",
    "\n",
    "mat = c.matrix(balance=False, sparse=True)[1000:1200,1000:1200]\n",
    "mat"
   ]
  },
  {
   "cell_type": "markdown",
   "id": "e9d41a48-d80b-44e5-a9c6-0e4726d2bcd7",
   "metadata": {},
   "source": [
    "Convert to a 2D numpy array"
   ]
  },
  {
   "cell_type": "code",
   "execution_count": 29,
   "id": "25e1e74d-fb72-414b-bbe6-95abea4fa701",
   "metadata": {},
   "outputs": [
    {
     "data": {
      "text/plain": [
       "array([[ 57.,  33.,   9., ...,   0.,   1.,   0.],\n",
       "       [ 33.,  88.,  33., ...,   1.,   0.,   0.],\n",
       "       [  9.,  33.,  74., ...,   0.,   0.,   0.],\n",
       "       ...,\n",
       "       [  0.,   1.,   0., ..., 104.,  27.,  12.],\n",
       "       [  1.,   0.,   0., ...,  27., 118.,  46.],\n",
       "       [  0.,   0.,   0., ...,  12.,  46., 135.]])"
      ]
     },
     "execution_count": 29,
     "metadata": {},
     "output_type": "execute_result"
    }
   ],
   "source": [
    "arr = mat.toarray()\n",
    "arr"
   ]
  },
  {
   "cell_type": "markdown",
   "id": "81202e02-2fd3-46d9-80cc-b11c101190fc",
   "metadata": {},
   "source": [
    "Notice that tha lower triangle has automatically been filled"
   ]
  },
  {
   "cell_type": "code",
   "execution_count": 30,
   "id": "17d698c7-0e9c-4f7b-b5a4-382e3bf769a8",
   "metadata": {},
   "outputs": [
    {
     "data": {
      "text/plain": [
       "<matplotlib.colorbar.Colorbar at 0x146a5ad90fe0>"
      ]
     },
     "execution_count": 30,
     "metadata": {},
     "output_type": "execute_result"
    },
    {
     "data": {
      "image/png": "[encoded data removed]",
      "text/plain": [
       "<Figure size 1000x1000 with 2 Axes>"
      ]
     },
     "metadata": {},
     "output_type": "display_data"
    }
   ],
   "source": [
    "# Plot\n",
    "fig = plt.figure(figsize=(10,10))\n",
    "ax  = fig.add_subplot(111)\n",
    "im  = ax.matshow(np.log1p(arr), cmap='Reds')\n",
    "fig.colorbar(im) "
   ]
  },
  {
   "cell_type": "code",
   "execution_count": null,
   "id": "cbca242a-0a3b-4154-88f2-a337cdb38e1c",
   "metadata": {},
   "outputs": [],
   "source": []
  }
 ],
 "metadata": {
  "kernelspec": {
   "display_name": "Python (hic)",
   "language": "python",
   "name": "hic"
  },
  "language_info": {
   "codemirror_mode": {
    "name": "ipython",
    "version": 3
   },
   "file_extension": ".py",
   "mimetype": "text/x-python",
   "name": "python",
   "nbconvert_exporter": "python",
   "pygments_lexer": "ipython3",
   "version": "3.12.2"
  }
 },
 "nbformat": 4,
 "nbformat_minor": 5
}
