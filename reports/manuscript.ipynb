{
 "cells": [
  {
   "cell_type": "markdown",
   "id": "5233e964-1e76-4aa3-bb48-2fcc8bcdde92",
   "metadata": {},
   "source": [
    "---\n",
    "title: Correlating Chromatin Compartments with Selection\n",
    "subtitle: How Chromatin Architecture Reflects Evolutionary Pressures During Spermatogenesis in Primates\n",
    "author: Søren Jørgensen\n",
    "date: last-modified\n",
    "format:\n",
    " html:\n",
    "  code-fold: true\n",
    "---"
   ]
  },
  {
   "cell_type": "markdown",
   "id": "6ac7e6bb-59fe-436c-9edf-71fe6f378f50",
   "metadata": {},
   "source": [
    "## Abstract\n",
    "\n",
    "This is a dummy abstract, dreamt up by chatGPT. Chromatin organization plays a crucial role in gene regulation and genome stability, particularly during the complex process of spermatogenesis. This thesis explores the three-dimensional chromatin architecture of the X chromosome in baboons, macaques, and humans, with a specific focus on the role of chromatin compartments during spermatogenesis. Leveraging publicly available Hi-C data, interaction maps were generated to identify Principal Component 1 (PC1) compartments, revealing distinct chromatin compartmentalization patterns across species. The analysis was extended to examine transition zones, areas where chromatin shifts from one compartment type to another, and their correlation with regions under positive selection.\n",
    "\n",
    "By comparing these zones with regions of known evolutionary significance, the study aims to uncover how chromatin structure reflects and potentially drives evolutionary pressures. A key finding is the identification of conserved chromatin features that may contribute to the retention of non-advantageous alleles, suggesting a possible role for selfish genetic elements in shaping genome evolution. The results of this research provide novel insights into the interplay between chromatin architecture and evolutionary dynamics, contributing to a deeper understanding of the conservation and divergence of chromatin structures across primate species."
   ]
  },
  {
   "cell_type": "markdown",
   "id": "f15834fb-49c9-4244-b725-a08c695001b4",
   "metadata": {},
   "source": [
    "## Introduction\n",
    "\n",
    "Denmark is .... blah, blah, blah, blah, blah, blah, blah, blah, blah, blah, blah, blah, blah, blah, blah, blah, blah, blah, blah, blah, blah, blah, blah, blah, blah, blah, blah, blah, blah, blah, blah, blah, blah, blah, blah, blah, blah, blah, blah, blah, blah, blah, blah, blah, blah"
   ]
  },
  {
   "cell_type": "markdown",
   "id": "a9469f7c-70c2-4175-a586-29450e2b0497",
   "metadata": {},
   "source": [
    "## Results\n",
    "\n",
    "### Weather\n",
    "\n",
    "As shown in @fig-danish-weather, the Danish weather is blah, blah, blah, blah, blah, blah, blah, blah, blah, blah, blah, blah, blah, blah, blah, blah, blah, blah, blah, blah, blah, blah, blah, blah, blah, blah, blah, blah, blah, blah, blah, blah, blah, blah, blah, blah, blah, blah, blah, blah, blah, blah, blah, blah, blah.\n",
    "\n",
    "{{< embed ../notebooks/001_weather.ipynb#fig-danish-weather >}}\n",
    "\n",
    "### Social norms\n",
    "\n",
    "In Denmark, the workplace interaction is very informal and largely unaffected by seniority and age. \n",
    "\n",
    "{{< embed ../notebooks/002_interaction.ipynb#doc-sampling echo=false >}}\n",
    "\n",
    "I found that neither academic seniority or age of workplace individuals much affected how informal our interaction was (see @fig-danish-interaction). \n",
    "\n",
    "{{< embed ../notebooks/002_interaction.ipynb#fig-danish-interaction >}}\n",
    "\n",
    "<!-- a bug in quarto does not allow successive embeds witout somthing in between (like this) -->\n",
    "\n",
    "{{< embed ../notebooks/002_interaction.ipynb#doc-formality-correlation echo=false >}}"
   ]
  },
  {
   "cell_type": "markdown",
   "id": "4629d318-7425-4e9d-b3fc-c6999afcd847",
   "metadata": {},
   "source": [
    "## Discussion\n",
    "\n",
    "This this investigation of Danes..., blah, blah, blah, blah, blah, blah, blah, blah, blah, blah, blah, blah, blah, blah, blah, blah, blah, blah, blah, blah, blah, blah, blah, blah, blah, blah, blah, blah, blah, blah, blah, blah, blah, blah, blah, blah, blah, blah, blah, blah, blah, blah, blah, blah, blah.\n",
    "\n",
    "## Methods\n",
    "\n",
    "### Weather analysis\n",
    "\n",
    "{{< embed ../notebooks/001_weather.ipynb#doc-weather-data echo=false >}}\n",
    "\n",
    "### Interaction analysis\n",
    "\n",
    "{{< embed ../notebooks/002_interaction.ipynb#doc-interviews echo=false >}}"
   ]
  },
  {
   "cell_type": "code",
   "execution_count": 1,
   "id": "5730d18b-ada0-4303-b867-ed549dcd2a06",
   "metadata": {},
   "outputs": [],
   "source": []
  }
 ],
 "metadata": {
  "kernelspec": {
   "display_name": "Python 3 (ipykernel)",
   "language": "python",
   "name": "python3"
  },
  "language_info": {
   "codemirror_mode": {
    "name": "ipython",
    "version": 3
   },
   "file_extension": ".py",
   "mimetype": "text/x-python",
   "name": "python",
   "nbconvert_exporter": "python",
   "pygments_lexer": "ipython3",
   "version": "3.12.2"
  }
 },
 "nbformat": 4,
 "nbformat_minor": 5
}
